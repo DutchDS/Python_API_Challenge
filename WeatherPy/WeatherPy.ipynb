{
 "cells": [
  {
   "cell_type": "markdown",
   "metadata": {},
   "source": [
    "# WeatherPy\n",
    "----\n",
    "\n",
    "#### Note\n",
    "* Instructions have been included for each segment. You do not have to follow them exactly, but they are included to help you think through the steps."
   ]
  },
  {
   "cell_type": "code",
   "execution_count": 39,
   "metadata": {
    "scrolled": true
   },
   "outputs": [],
   "source": [
    "# Dependencies and Setup\n",
    "import matplotlib.pyplot as plt\n",
    "import pandas as pd\n",
    "import numpy as np\n",
    "import requests\n",
    "import json\n",
    "import time\n",
    "import os\n",
    "import csv\n",
    "\n",
    "from pprint import pprint\n",
    "\n",
    "# Import API key\n",
    "from api_keys import api_key\n",
    "\n",
    "# Incorporated citipy to determine city based on latitude and longitude\n",
    "from citipy import citipy\n",
    "\n",
    "# Output File (CSV)\n",
    "output_data_file = \"output_data/cities.csv\"\n",
    "\n",
    "# Range of latitudes and longitudes\n",
    "lat_range = (-90, 90)\n",
    "lng_range = (-180, 180)"
   ]
  },
  {
   "cell_type": "markdown",
   "metadata": {},
   "source": [
    "## Generate Cities List"
   ]
  },
  {
   "cell_type": "code",
   "execution_count": 44,
   "metadata": {},
   "outputs": [
    {
     "name": "stdout",
     "output_type": "stream",
     "text": [
      "['nikolskoye', 'hilo', 'pacific grove', 'punta arenas', 'whitehorse', 'taolanaro', 'busselton', 'namibe', 'yellowknife', 'navolato']\n"
     ]
    }
   ],
   "source": [
    "# List for holding lat_lngs and cities\n",
    "lat_lngs = []\n",
    "cities = []\n",
    "\n",
    "# Create a set of random lat and lng combinations\n",
    "lats = np.random.uniform(low=-90.000, high=90.000, size=1500)\n",
    "lngs = np.random.uniform(low=-180.000, high=180.000, size=1500)\n",
    "lat_lngs = zip(lats, lngs)\n",
    "\n",
    "# Identify nearest city for each lat, lng combination\n",
    "for lat_lng in lat_lngs:\n",
    "    city = citipy.nearest_city(lat_lng[0], lat_lng[1]).city_name\n",
    "    \n",
    "    # If the city is unique, then add it to a our cities list\n",
    "    if city not in cities:\n",
    "        cities.append(city)\n",
    "\n",
    "# Print the city count to confirm sufficient count\n",
    "len(cities)\n",
    "\n",
    "cities = cities[0:10] #comment out later\n",
    "print(cities)"
   ]
  },
  {
   "cell_type": "markdown",
   "metadata": {},
   "source": [
    "### Perform API Calls\n",
    "* Perform a weather check on each city using a series of successive API calls.\n",
    "* Include a print log of each city as it'sbeing processed (with the city number and city name).\n"
   ]
  },
  {
   "cell_type": "code",
   "execution_count": 46,
   "metadata": {},
   "outputs": [
    {
     "name": "stdout",
     "output_type": "stream",
     "text": [
      "'Now processing: Id= 546105 City= Nikolskoye Country= RU'\n",
      "'Now processing: Id= 5855927 City= Hilo Country= US'\n",
      "'Now processing: Id= 5380437 City= Pacific Grove Country= US'\n",
      "'Now processing: Id= 3874787 City= Punta Arenas Country= CL'\n",
      "'Now processing: Id= 6180550 City= Whitehorse Country= CA'\n",
      "\"City taolanaro doesn't exist in database\"\n",
      "'Now processing: Id= 2075265 City= Busselton Country= AU'\n",
      "'Now processing: Id= 3347019 City= Namibe Country= AO'\n",
      "'Now processing: Id= 6185377 City= Yellowknife Country= CA'\n",
      "'Now processing: Id= 3995017 City= Navolato Country= MX'\n"
     ]
    }
   ],
   "source": [
    "# URL for GET requests to retrieve weather data\n",
    "url = \"http://api.openweathermap.org/data/2.5/weather?q=\"\n",
    "\n",
    "# Create an empty list to store the responses\n",
    "response_json = []\n",
    "\n",
    "# Make a request for each of the indices\n",
    "# Pretty print JSON for all Cities\n",
    "for city in cities:\n",
    "    response = requests.get(url + city + \"&appid=\" + api_key)\n",
    "    if response.status_code == 200:\n",
    "        response = response.json()\n",
    "        response_json.append(response)\n",
    "        pprint(f\"Now processing: Id= {response['id']} City= {response['name']} Country= {response['sys']['country']}\")\n",
    "#         pprint(response)\n",
    "    else:\n",
    "        pprint(f\"City {city} doesn't exist in database\")\n"
   ]
  },
  {
   "cell_type": "markdown",
   "metadata": {},
   "source": [
    "### Convert Raw Data to DataFrame\n",
    "* Export the city data into a .csv.\n",
    "* Display the DataFrame"
   ]
  },
  {
   "cell_type": "code",
   "execution_count": 47,
   "metadata": {},
   "outputs": [
    {
     "data": {
      "text/html": [
       "<div>\n",
       "<style scoped>\n",
       "    .dataframe tbody tr th:only-of-type {\n",
       "        vertical-align: middle;\n",
       "    }\n",
       "\n",
       "    .dataframe tbody tr th {\n",
       "        vertical-align: top;\n",
       "    }\n",
       "\n",
       "    .dataframe thead th {\n",
       "        text-align: right;\n",
       "    }\n",
       "</style>\n",
       "<table border=\"1\" class=\"dataframe\">\n",
       "  <thead>\n",
       "    <tr style=\"text-align: right;\">\n",
       "      <th></th>\n",
       "      <th>Name</th>\n",
       "      <th>Longitude</th>\n",
       "      <th>Latitude</th>\n",
       "      <th>Temperature</th>\n",
       "      <th>Humidity</th>\n",
       "      <th>Cloudiness</th>\n",
       "      <th>Wind</th>\n",
       "    </tr>\n",
       "  </thead>\n",
       "  <tbody>\n",
       "    <tr>\n",
       "      <td>0</td>\n",
       "      <td>Nikolskoye</td>\n",
       "      <td>30.79</td>\n",
       "      <td>59.70</td>\n",
       "      <td>278.38</td>\n",
       "      <td>87</td>\n",
       "      <td>90</td>\n",
       "      <td>5.00</td>\n",
       "    </tr>\n",
       "    <tr>\n",
       "      <td>1</td>\n",
       "      <td>Hilo</td>\n",
       "      <td>-155.08</td>\n",
       "      <td>19.71</td>\n",
       "      <td>292.27</td>\n",
       "      <td>78</td>\n",
       "      <td>1</td>\n",
       "      <td>2.05</td>\n",
       "    </tr>\n",
       "    <tr>\n",
       "      <td>2</td>\n",
       "      <td>Pacific Grove</td>\n",
       "      <td>-121.92</td>\n",
       "      <td>36.62</td>\n",
       "      <td>282.59</td>\n",
       "      <td>93</td>\n",
       "      <td>90</td>\n",
       "      <td>2.60</td>\n",
       "    </tr>\n",
       "    <tr>\n",
       "      <td>3</td>\n",
       "      <td>Punta Arenas</td>\n",
       "      <td>-70.91</td>\n",
       "      <td>-53.16</td>\n",
       "      <td>282.75</td>\n",
       "      <td>87</td>\n",
       "      <td>90</td>\n",
       "      <td>2.60</td>\n",
       "    </tr>\n",
       "    <tr>\n",
       "      <td>4</td>\n",
       "      <td>Whitehorse</td>\n",
       "      <td>-135.06</td>\n",
       "      <td>60.72</td>\n",
       "      <td>263.97</td>\n",
       "      <td>85</td>\n",
       "      <td>90</td>\n",
       "      <td>2.10</td>\n",
       "    </tr>\n",
       "    <tr>\n",
       "      <td>5</td>\n",
       "      <td>Busselton</td>\n",
       "      <td>115.35</td>\n",
       "      <td>-33.64</td>\n",
       "      <td>294.63</td>\n",
       "      <td>31</td>\n",
       "      <td>11</td>\n",
       "      <td>5.44</td>\n",
       "    </tr>\n",
       "    <tr>\n",
       "      <td>6</td>\n",
       "      <td>Namibe</td>\n",
       "      <td>12.15</td>\n",
       "      <td>-15.19</td>\n",
       "      <td>296.43</td>\n",
       "      <td>81</td>\n",
       "      <td>12</td>\n",
       "      <td>4.54</td>\n",
       "    </tr>\n",
       "    <tr>\n",
       "      <td>7</td>\n",
       "      <td>Yellowknife</td>\n",
       "      <td>-114.38</td>\n",
       "      <td>62.45</td>\n",
       "      <td>259.58</td>\n",
       "      <td>84</td>\n",
       "      <td>90</td>\n",
       "      <td>2.10</td>\n",
       "    </tr>\n",
       "    <tr>\n",
       "      <td>8</td>\n",
       "      <td>Navolato</td>\n",
       "      <td>-107.70</td>\n",
       "      <td>24.76</td>\n",
       "      <td>289.69</td>\n",
       "      <td>100</td>\n",
       "      <td>5</td>\n",
       "      <td>4.10</td>\n",
       "    </tr>\n",
       "  </tbody>\n",
       "</table>\n",
       "</div>"
      ],
      "text/plain": [
       "            Name  Longitude  Latitude  Temperature  Humidity  Cloudiness  Wind\n",
       "0     Nikolskoye      30.79     59.70       278.38        87          90  5.00\n",
       "1           Hilo    -155.08     19.71       292.27        78           1  2.05\n",
       "2  Pacific Grove    -121.92     36.62       282.59        93          90  2.60\n",
       "3   Punta Arenas     -70.91    -53.16       282.75        87          90  2.60\n",
       "4     Whitehorse    -135.06     60.72       263.97        85          90  2.10\n",
       "5      Busselton     115.35    -33.64       294.63        31          11  5.44\n",
       "6         Namibe      12.15    -15.19       296.43        81          12  4.54\n",
       "7    Yellowknife    -114.38     62.45       259.58        84          90  2.10\n",
       "8       Navolato    -107.70     24.76       289.69       100           5  4.10"
      ]
     },
     "execution_count": 47,
     "metadata": {},
     "output_type": "execute_result"
    }
   ],
   "source": [
    "my_dict = pd.Series()\n",
    "my_df = pd.DataFrame()\n",
    "my_df_cvs = pd.DataFrame()\n",
    "my_array = []\n",
    "\n",
    "# Specify the file to write to\n",
    "output_path = os.path.join(\"output\", \"new.csv\")\n",
    "\n",
    "# Open the file using \"write\" mode. Specify the variable to hold the contents\n",
    "with open(output_path, 'w', newline='') as csvfile:\n",
    "    csvwriter = csv.writer(csvfile, delimiter=',')\n",
    "    csvwriter.writerow([\"Name\",\"Longitude\",\"Latitude\",\"Temperature\",\"Humidity\",\"Cloudiness\",\"Wind\"])\n",
    "   \n",
    "    for x in response_json:\n",
    "#         try:\n",
    "        my_dict= (x['name'],x['coord']['lon'],x['coord']['lat'],x['main']['temp'],\n",
    "                  x['main']['humidity'],x['clouds']['all'],x['wind']['speed'])\n",
    "        csvwriter.writerow(my_dict) \n",
    "#             my_array.append(my_dict)\n",
    "#         except KeyError:\n",
    "#             x=0\n",
    "           \n",
    "# my_df = pd.DataFrame(my_array)\n",
    "# my_df.columns = [\"Name\",\"Longitude\",\"Latitude\",\"Temperature\",\"Humidity\",\"Cloudiness\",\"Wind\"]\n",
    "# my_df.head()\n",
    "my_df_cvs = pd.read_csv(output_path, encoding=\"ISO-8859-1\", low_memory=False)\n",
    "my_df_cvs"
   ]
  },
  {
   "cell_type": "markdown",
   "metadata": {},
   "source": [
    "### Plotting the Data\n",
    "* Use proper labeling of the plots using plot titles (including date of analysis) and axes labels.\n",
    "* Save the plotted figures as .pngs."
   ]
  },
  {
   "cell_type": "markdown",
   "metadata": {},
   "source": [
    "#### Latitude vs. Temperature Plot"
   ]
  },
  {
   "cell_type": "code",
   "execution_count": null,
   "metadata": {},
   "outputs": [],
   "source": []
  },
  {
   "cell_type": "markdown",
   "metadata": {},
   "source": [
    "#### Latitude vs. Humidity Plot"
   ]
  },
  {
   "cell_type": "code",
   "execution_count": null,
   "metadata": {},
   "outputs": [],
   "source": []
  },
  {
   "cell_type": "markdown",
   "metadata": {},
   "source": [
    "#### Latitude vs. Cloudiness Plot"
   ]
  },
  {
   "cell_type": "code",
   "execution_count": null,
   "metadata": {},
   "outputs": [],
   "source": []
  },
  {
   "cell_type": "markdown",
   "metadata": {},
   "source": [
    "#### Latitude vs. Wind Speed Plot"
   ]
  },
  {
   "cell_type": "code",
   "execution_count": null,
   "metadata": {},
   "outputs": [],
   "source": []
  }
 ],
 "metadata": {
  "anaconda-cloud": {},
  "kernel_info": {
   "name": "python3"
  },
  "kernelspec": {
   "display_name": "Python 3",
   "language": "python",
   "name": "python3"
  },
  "language_info": {
   "codemirror_mode": {
    "name": "ipython",
    "version": 3
   },
   "file_extension": ".py",
   "mimetype": "text/x-python",
   "name": "python",
   "nbconvert_exporter": "python",
   "pygments_lexer": "ipython3",
   "version": "3.7.4"
  },
  "nteract": {
   "version": "0.12.3"
  }
 },
 "nbformat": 4,
 "nbformat_minor": 2
}
