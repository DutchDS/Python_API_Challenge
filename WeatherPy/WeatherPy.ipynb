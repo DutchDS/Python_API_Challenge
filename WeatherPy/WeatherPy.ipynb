{
 "cells": [
  {
   "cell_type": "markdown",
   "metadata": {},
   "source": [
    "# WeatherPy\n",
    "----\n",
    "\n",
    "#### Note\n",
    "* Instructions have been included for each segment. You do not have to follow them exactly, but they are included to help you think through the steps."
   ]
  },
  {
   "cell_type": "code",
   "execution_count": 1,
   "metadata": {
    "scrolled": true
   },
   "outputs": [],
   "source": [
    "# Dependencies and Setup\n",
    "import matplotlib.pyplot as plt\n",
    "import pandas as pd\n",
    "import numpy as np\n",
    "import requests\n",
    "import json\n",
    "import time\n",
    "import os\n",
    "import csv\n",
    "\n",
    "from pprint import pprint\n",
    "\n",
    "# Import API key\n",
    "from api_keys import api_key\n",
    "\n",
    "# Incorporated citipy to determine city based on latitude and longitude\n",
    "from citipy import citipy\n",
    "\n",
    "# Output File (CSV)\n",
    "output_data_file = \"output_data/cities.csv\"\n",
    "\n",
    "# Range of latitudes and longitudes\n",
    "lat_range = (-90, 90)\n",
    "lng_range = (-180, 180)"
   ]
  },
  {
   "cell_type": "markdown",
   "metadata": {},
   "source": [
    "## Generate Cities List"
   ]
  },
  {
   "cell_type": "code",
   "execution_count": 6,
   "metadata": {},
   "outputs": [
    {
     "name": "stdout",
     "output_type": "stream",
     "text": [
      "['bredasdorp', 'sentyabrskiy', 'ahipara', 'mys shmidta', 'tuktoyaktuk', 'portland', 'san quintin', 'yaan', 'poltavka', 'ribeira grande']\n"
     ]
    }
   ],
   "source": [
    "# List for holding lat_lngs and cities\n",
    "lat_lngs = []\n",
    "cities = []\n",
    "\n",
    "# Create a set of random lat and lng combinations\n",
    "lats = np.random.uniform(low=-90.000, high=90.000, size=1500)\n",
    "lngs = np.random.uniform(low=-180.000, high=180.000, size=1500)\n",
    "lat_lngs = zip(lats, lngs)\n",
    "\n",
    "# Identify nearest city for each lat, lng combination\n",
    "for lat_lng in lat_lngs:\n",
    "    city = citipy.nearest_city(lat_lng[0], lat_lng[1]).city_name\n",
    "    \n",
    "    # If the city is unique, then add it to a our cities list\n",
    "    if city not in cities:\n",
    "        cities.append(city)\n",
    "\n",
    "# Print the city count to confirm sufficient count\n",
    "len(cities)\n",
    "\n",
    "cities = cities[0:10] #comment out later\n",
    "print(cities)"
   ]
  },
  {
   "cell_type": "markdown",
   "metadata": {},
   "source": [
    "### Perform API Calls\n",
    "* Perform a weather check on each city using a series of successive API calls.\n",
    "* Include a print log of each city as it'sbeing processed (with the city number and city name).\n"
   ]
  },
  {
   "cell_type": "code",
   "execution_count": 3,
   "metadata": {},
   "outputs": [
    {
     "name": "stdout",
     "output_type": "stream",
     "text": [
      "Now processing: Id= 5848280 City= Kapaa Country= US\n",
      "Now processing: Id= 4030556 City= Rikitea Country= PF\n",
      "Now processing: Id= 1529484 City= Hami Country= CN\n",
      "Now processing: Id= 1651810 City= Airai Country= TL\n",
      "Now processing: Id= 1572151 City= Nha Trang Country= VN\n",
      "This city does not exist\n",
      "Now processing: Id= 2729907 City= Longyearbyen Country= NO\n",
      "Now processing: Id= 1787599 City= Xingyi Country= CN\n",
      "Now processing: Id= 5106834 City= Albany Country= US\n",
      "Now processing: Id= 3107677 City= Tortosa Country= ES\n"
     ]
    }
   ],
   "source": [
    "# URL for GET requests to retrieve weather data\n",
    "url = \"http://api.openweathermap.org/data/2.5/weather?q=\"\n",
    "\n",
    "# Create an empty list to store the responses\n",
    "response_json = []\n",
    "\n",
    "# Make a request for each of the indices\n",
    "# Pretty print JSON for all Cities\n",
    "for city in cities:\n",
    "    response = requests.get(url + city + \"&appid=\" + api_key).json()\n",
    "    try:\n",
    "        response_json.append(response)\n",
    "        json.dumps(response, indent=4, sort_keys=True)\n",
    "        print(f\"Now processing: Id= {response['id']} City= {response['name']} Country= {response['sys']['country']}\")\n",
    "    except KeyError:\n",
    "        print(\"This city does not exist\")"
   ]
  },
  {
   "cell_type": "markdown",
   "metadata": {},
   "source": [
    "### Convert Raw Data to DataFrame\n",
    "* Export the city data into a .csv.\n",
    "* Display the DataFrame"
   ]
  },
  {
   "cell_type": "code",
   "execution_count": 5,
   "metadata": {},
   "outputs": [
    {
     "data": {
      "text/html": [
       "<div>\n",
       "<style scoped>\n",
       "    .dataframe tbody tr th:only-of-type {\n",
       "        vertical-align: middle;\n",
       "    }\n",
       "\n",
       "    .dataframe tbody tr th {\n",
       "        vertical-align: top;\n",
       "    }\n",
       "\n",
       "    .dataframe thead th {\n",
       "        text-align: right;\n",
       "    }\n",
       "</style>\n",
       "<table border=\"1\" class=\"dataframe\">\n",
       "  <thead>\n",
       "    <tr style=\"text-align: right;\">\n",
       "      <th></th>\n",
       "      <th>Name</th>\n",
       "      <th>Longitude</th>\n",
       "      <th>Latitude</th>\n",
       "      <th>Temperature</th>\n",
       "      <th>Humidity</th>\n",
       "      <th>Cloudiness</th>\n",
       "      <th>Wind</th>\n",
       "    </tr>\n",
       "  </thead>\n",
       "  <tbody>\n",
       "    <tr>\n",
       "      <td>0</td>\n",
       "      <td>Kapaa</td>\n",
       "      <td>-159.32</td>\n",
       "      <td>22.08</td>\n",
       "      <td>296.08</td>\n",
       "      <td>78</td>\n",
       "      <td>1</td>\n",
       "      <td>2.60</td>\n",
       "    </tr>\n",
       "    <tr>\n",
       "      <td>1</td>\n",
       "      <td>Rikitea</td>\n",
       "      <td>-134.97</td>\n",
       "      <td>-23.12</td>\n",
       "      <td>295.46</td>\n",
       "      <td>82</td>\n",
       "      <td>100</td>\n",
       "      <td>5.83</td>\n",
       "    </tr>\n",
       "    <tr>\n",
       "      <td>2</td>\n",
       "      <td>Hami</td>\n",
       "      <td>93.51</td>\n",
       "      <td>42.84</td>\n",
       "      <td>273.50</td>\n",
       "      <td>25</td>\n",
       "      <td>0</td>\n",
       "      <td>1.93</td>\n",
       "    </tr>\n",
       "    <tr>\n",
       "      <td>3</td>\n",
       "      <td>Airai</td>\n",
       "      <td>125.41</td>\n",
       "      <td>-8.93</td>\n",
       "      <td>292.97</td>\n",
       "      <td>82</td>\n",
       "      <td>13</td>\n",
       "      <td>1.26</td>\n",
       "    </tr>\n",
       "    <tr>\n",
       "      <td>4</td>\n",
       "      <td>Nha Trang</td>\n",
       "      <td>109.19</td>\n",
       "      <td>12.24</td>\n",
       "      <td>301.15</td>\n",
       "      <td>88</td>\n",
       "      <td>40</td>\n",
       "      <td>3.60</td>\n",
       "    </tr>\n",
       "  </tbody>\n",
       "</table>\n",
       "</div>"
      ],
      "text/plain": [
       "        Name  Longitude  Latitude  Temperature  Humidity  Cloudiness  Wind\n",
       "0      Kapaa    -159.32     22.08       296.08        78           1  2.60\n",
       "1    Rikitea    -134.97    -23.12       295.46        82         100  5.83\n",
       "2       Hami      93.51     42.84       273.50        25           0  1.93\n",
       "3      Airai     125.41     -8.93       292.97        82          13  1.26\n",
       "4  Nha Trang     109.19     12.24       301.15        88          40  3.60"
      ]
     },
     "execution_count": 5,
     "metadata": {},
     "output_type": "execute_result"
    }
   ],
   "source": [
    "my_dict = pd.Series()\n",
    "my_df = pd.DataFrame()\n",
    "my_df_cvs = pd.DataFrame()\n",
    "my_array = []\n",
    "\n",
    "# Specify the file to write to\n",
    "output_path = os.path.join(\"output\", \"new.csv\")\n",
    "\n",
    "# Open the file using \"write\" mode. Specify the variable to hold the contents\n",
    "with open(output_path, 'w', newline='') as csvfile:\n",
    "    csvwriter = csv.writer(csvfile, delimiter=',')\n",
    "    csvwriter.writerow([\"Name\",\"Longitude\",\"Latitude\",\"Temperature\",\"Humidity\",\"Cloudiness\",\"Wind\"])\n",
    "   \n",
    "    for x in response_json:\n",
    "        try:\n",
    "            my_dict= (x['name'],x['coord']['lon'],x['coord']['lat'],x['main']['temp'],\n",
    "                      x['main']['humidity'],x['clouds']['all'],x['wind']['speed'])\n",
    "            csvwriter.writerow(my_dict) \n",
    "#             my_array.append(my_dict)\n",
    "        except KeyError:\n",
    "            x=0\n",
    "           \n",
    "# my_df = pd.DataFrame(my_array)\n",
    "# my_df.columns = [\"Name\",\"Longitude\",\"Latitude\",\"Temperature\",\"Humidity\",\"Cloudiness\",\"Wind\"]\n",
    "# my_df.head()\n",
    "my_df_cvs = pd.read_csv(output_path, encoding=\"ISO-8859-1\", low_memory=False)\n",
    "my_df_cvs.head()"
   ]
  },
  {
   "cell_type": "markdown",
   "metadata": {},
   "source": [
    "### Plotting the Data\n",
    "* Use proper labeling of the plots using plot titles (including date of analysis) and axes labels.\n",
    "* Save the plotted figures as .pngs."
   ]
  },
  {
   "cell_type": "markdown",
   "metadata": {},
   "source": [
    "#### Latitude vs. Temperature Plot"
   ]
  },
  {
   "cell_type": "code",
   "execution_count": null,
   "metadata": {},
   "outputs": [],
   "source": []
  },
  {
   "cell_type": "markdown",
   "metadata": {},
   "source": [
    "#### Latitude vs. Humidity Plot"
   ]
  },
  {
   "cell_type": "code",
   "execution_count": null,
   "metadata": {},
   "outputs": [],
   "source": []
  },
  {
   "cell_type": "markdown",
   "metadata": {},
   "source": [
    "#### Latitude vs. Cloudiness Plot"
   ]
  },
  {
   "cell_type": "code",
   "execution_count": null,
   "metadata": {},
   "outputs": [],
   "source": []
  },
  {
   "cell_type": "markdown",
   "metadata": {},
   "source": [
    "#### Latitude vs. Wind Speed Plot"
   ]
  },
  {
   "cell_type": "code",
   "execution_count": null,
   "metadata": {},
   "outputs": [],
   "source": []
  }
 ],
 "metadata": {
  "anaconda-cloud": {},
  "kernel_info": {
   "name": "python3"
  },
  "kernelspec": {
   "display_name": "Python 3",
   "language": "python",
   "name": "python3"
  },
  "language_info": {
   "codemirror_mode": {
    "name": "ipython",
    "version": 3
   },
   "file_extension": ".py",
   "mimetype": "text/x-python",
   "name": "python",
   "nbconvert_exporter": "python",
   "pygments_lexer": "ipython3",
   "version": "3.7.4"
  },
  "nteract": {
   "version": "0.12.3"
  }
 },
 "nbformat": 4,
 "nbformat_minor": 2
}
